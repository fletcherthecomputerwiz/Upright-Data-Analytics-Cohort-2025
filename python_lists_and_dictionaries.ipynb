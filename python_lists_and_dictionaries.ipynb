{
 "cells": [
  {
   "cell_type": "code",
   "execution_count": null,
   "id": "92fc6826",
   "metadata": {},
   "outputs": [],
   "source": [
    "# Python Lists and Dictionaries - Practice Exercise\n",
    "# Instructions:\n",
    "# 1. Create a shopping list with at least 5 items\n",
    "shopping_list = [\"sneakers\", \"pants\", \"chinos\", \"belts\", \"t-shirts\", \"sweaters\"]\n",
    "\n",
    "# 2. Print out the third item in the list\n",
    "print(shopping_list[2])\n",
    "\n",
    "# 3. Replace the first item with a different item\n",
    "shopping_list[0] = \"blazers\"\n",
    "\n",
    "# 4. Add an item to the end of the list\n",
    "shopping_list.append(\"socks\")\n",
    "\n",
    "# 5. Create a dictionary of 3 grocery items with their prices\n",
    "grocery_items = {  \n",
    "    \"blueberries\": 5.99, \n",
    "    \"strawberries\": 3.99,\n",
    "    \"kale\": 1.99    \n",
    "}\n",
    "\n",
    "# 6. Print a message showing one item and its price\n",
    "print(f\"The cost of kale is {grocery_items[\"kale\"]}\")\n",
    "\n",
    "# 7. Add a new item to the dictionary with its price\n",
    "grocery_items[\"chicken_breast\"] =  2.99\n",
    "print(f\"{grocery_items}\")\n",
    "\n",
    "# 8. Calculate and print the total cost of all items\n",
    "total_cost = sum(grocery_items.values())\n",
    "print(f\"The total cost for all items in the grocery list is {total_cost}\")\n",
    "\n"
   ]
  },
  {
   "cell_type": "code",
   "execution_count": null,
   "id": "178ead23",
   "metadata": {},
   "outputs": [],
   "source": []
  }
 ],
 "metadata": {
  "kernelspec": {
   "display_name": "Python 3",
   "language": "python",
   "name": "python3"
  },
  "language_info": {
   "codemirror_mode": {
    "name": "ipython",
    "version": 3
   },
   "file_extension": ".py",
   "mimetype": "text/x-python",
   "name": "python",
   "nbconvert_exporter": "python",
   "pygments_lexer": "ipython3",
   "version": "3.12.1"
  }
 },
 "nbformat": 4,
 "nbformat_minor": 5
}
