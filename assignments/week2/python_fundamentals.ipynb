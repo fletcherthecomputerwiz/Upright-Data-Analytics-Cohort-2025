#Workshop: Python Fundamentals 
### Exercise 1: Grade Calculator
# Write a program that converts a numerical score to a letter grade
# 90-100: A
# 80-89: B
# 70-79: C
# 60-69: D
# Below 60: F

def calculate_grade(s):
    return "A" if s >= 90 else "B" if s >= 80 else "C" if s >= 70 else "D" if s >= 60 else "F"

test_scores = [95, 82, 71, 65, 55]
   
for score in test_scores:
    print(f"Score: {score}, Grade: {calculate_grade(score)}")
