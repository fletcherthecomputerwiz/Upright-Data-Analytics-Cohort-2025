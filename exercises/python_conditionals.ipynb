{
 "cells": [
  {
   "cell_type": "code",
   "execution_count": null,
   "id": "36034b65",
   "metadata": {},
   "outputs": [],
   "source": [
    "#Exercise: Python Conditionals\n",
    "\n",
    "# Task 1: Basic if Statement\n",
    "def check_positive(num):\n",
    "    if num > 0:\n",
    "        print(\"The number is positive\")"
   ]
  },
  {
   "cell_type": "code",
   "execution_count": null,
   "id": "be444101",
   "metadata": {},
   "outputs": [],
   "source": [
    "# Task 2: if-else Statement\n",
    "def has_passed(score):\n",
    "    if score > 59:\n",
    "        return True\n",
    "    else: return False"
   ]
  },
  {
   "cell_type": "code",
   "execution_count": null,
   "id": "58706881",
   "metadata": {},
   "outputs": [],
   "source": [
    "# Task 3: if-elif-else Statement\n",
    "def test_results(score):\n",
    "    if score > 89: return \"A\"\n",
    "    elif score > 79: return \"B\"\n",
    "    elif score > 69: return \"C\"\n",
    "    elif score > 59: return \"D\"\n",
    "    else: return \"F\""
   ]
  },
  {
   "cell_type": "code",
   "execution_count": null,
   "id": "1de3ebbd",
   "metadata": {},
   "outputs": [],
   "source": [
    "# Task 4: Nested Conditionals\n",
    "def user_access(user):\n",
    "    if user.login_status:\n",
    "        if user.admin_status:\n",
    "            print(\"Welcome admin! Full access granted\")\n",
    "       \n",
    "        if user.premium_user: \n",
    "            print(\"Welcome admin! Full access granted\")\n",
    "    else: print(\"Please log in to access the site\")\n"
   ]
  },
  {
   "cell_type": "code",
   "execution_count": null,
   "id": "b23a70ea",
   "metadata": {},
   "outputs": [],
   "source": [
    "# Task 5: Ternary Operator\n",
    "def is_even(num):\n",
    "    return \"Even\" if num % 2 == 0 else \"Odd\""
   ]
  },
  {
   "cell_type": "code",
   "execution_count": null,
   "id": "348b43bf",
   "metadata": {},
   "outputs": [],
   "source": [
    "# Task 6: Combining Conditions\n",
    "def is_leap_year(year):\n",
    "        if year % 4 == 0:\n",
    "            if year % 100 == 0 and year % 400 != 0:\n",
    "                  return False\n",
    "            else: return True\n",
    "        else: return  False\n"
   ]
  },
  {
   "cell_type": "code",
   "execution_count": null,
   "id": "f513fdaf",
   "metadata": {},
   "outputs": [],
   "source": [
    "# Task 7: Best Practices (Refactoring)\n",
    "def classify_item(item_type, price, in_stock):\n",
    "    result = \"\"\n",
    "\n",
    "    l_item_type = \"electronics\" if item_type == \"electronics\" else \"non-electronics\"\n",
    "    l_price = \"Affordable\" if price < 100 else \"Premium\"\n",
    "    l_in_stock = \"in stock\" if in_stock else \"out of stock\"\n",
    "    result = f\"{l_price}{l_item_type}{l_in_stock}\"\n",
    "    \n",
    "    return result\n"
   ]
  }
 ],
 "metadata": {
  "kernelspec": {
   "display_name": "Python 3",
   "language": "python",
   "name": "python3"
  },
  "language_info": {
   "codemirror_mode": {
    "name": "ipython",
    "version": 3
   },
   "file_extension": ".py",
   "mimetype": "text/x-python",
   "name": "python",
   "nbconvert_exporter": "python",
   "pygments_lexer": "ipython3",
   "version": "3.12.1"
  }
 },
 "nbformat": 4,
 "nbformat_minor": 5
}
