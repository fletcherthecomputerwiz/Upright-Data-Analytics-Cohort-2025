{
 "cells": [
  {
   "cell_type": "code",
   "execution_count": 20,
   "id": "43212b67",
   "metadata": {},
   "outputs": [],
   "source": [
    "# Task 1: Basic Function\n",
    "def hello_world():\n",
    "    print(\"Hello, world!\")\n",
    "    "
   ]
  },
  {
   "cell_type": "code",
   "execution_count": 21,
   "id": "41f0f4ad",
   "metadata": {},
   "outputs": [],
   "source": [
    "# Task 2: Function with a Parameter\n",
    "def greet(name):\n",
    "    return f\"Hello, {name}!\""
   ]
  },
  {
   "cell_type": "code",
   "execution_count": 22,
   "id": "79f9e2f4",
   "metadata": {},
   "outputs": [],
   "source": [
    "# Task 3: Function with Multiple Parameters\n",
    "def calculate_area(length, width):\n",
    "    return length * width\n"
   ]
  },
  {
   "cell_type": "code",
   "execution_count": 23,
   "id": "9d8b95fe",
   "metadata": {},
   "outputs": [],
   "source": [
    "# Task 4: Function with Default Parameter Values\n",
    "def power(base, exponent=2):\n",
    "    return base ** exponent"
   ]
  },
  {
   "cell_type": "code",
   "execution_count": 24,
   "id": "ce8b304f",
   "metadata": {},
   "outputs": [],
   "source": [
    "# Task 5: Function that Returns a Value\n",
    "def get_full_name(first, last, middle=None):\n",
    "    return f\"{first} {middle} {last}\""
   ]
  },
  {
   "cell_type": "code",
   "execution_count": 25,
   "id": "1568d642",
   "metadata": {},
   "outputs": [],
   "source": [
    "#Task 6: Function Composition\n",
    "def celsius_to_fahrenheit(c):\n",
    "    return (c * (9/5)) + 32\n",
    "\n",
    "def fahrenheit_to_celsius(f):\n",
    "    return (f - 32) * (5/9)"
   ]
  },
  {
   "cell_type": "code",
   "execution_count": null,
   "id": "036bbd5d",
   "metadata": {},
   "outputs": [
    {
     "name": "stdout",
     "output_type": "stream",
     "text": [
      "15.555555555555557\n",
      "0 - 15°C: cold\n"
     ]
    }
   ],
   "source": [
    "# Task 7: Combining Functions and Conditionals\n",
    "def celsius_to_fahrenheit(c):\n",
    "    return (c * (9/5)) + 32\n",
    "\n",
    "def fahrenheit_to_celsius(f):\n",
    "    return (f - 32) * (5/9)\n",
    "\n",
    "def analyze_temperature(temp, unit):\n",
    "    f_temp = temp if unit.upper() == \"F\" else celsius_to_fahrenheit(temp)\n",
    "    c_temp = temp if unit.upper() == \"C\" else fahrenheit_to_celsius(temp)\n",
    "    description = \"\"\n",
    "    degree_symbol = (u'\\N{DEGREE SIGN}')\n",
    "\n",
    "    if c_temp < 0: description = f\"Below 0{degree_symbol}C: freezing\"\n",
    "    elif c_temp < 16: description = f\"0 - 15{degree_symbol}C: cold\"\n",
    "    elif c_temp < 26: description = f\"15 - 25{degree_symbol}C: moderate\"\n",
    "    else: description = f\"Above 25{degree_symbol}C: hot\"\n",
    "\n",
    "    return description\n",
    "\n",
    "print(analyze_temperature(60, \"f\"))"
   ]
  },
  {
   "cell_type": "code",
   "execution_count": 27,
   "id": "5fd7ccef",
   "metadata": {},
   "outputs": [],
   "source": [
    "# Task 8: Function with Variable Arguments\n",
    "\n",
    "def calculate_average(*scores):\n",
    "\n",
    "    return sum(scores) / len(scores) if scores else 0\n"
   ]
  },
  {
   "cell_type": "code",
   "execution_count": 28,
   "id": "9a98d997",
   "metadata": {},
   "outputs": [],
   "source": [
    "# Task 9: Advanced Challenge - Student Grade Function\n",
    "\n",
    "def calculate_final_grade(name, *scores):\n",
    "    if not scores: return f\"{name} does not have any scores om record\"\n",
    "    avg_score = sum(scores) / len(scores)\n",
    "\n",
    "    if avg_score > 89: grade = \"A\"\n",
    "    elif avg_score > 79: grade = \"B\"\n",
    "    elif avg_score > 69: grade = \"C\"\n",
    "    elif avg_score > 59: grade = \"D\"\n",
    "    else: grade = \"F\"\n",
    "    \n",
    "    return f\"{name}'s final grade is a {avg_score:.1f} ({grade})\""
   ]
  }
 ],
 "metadata": {
  "kernelspec": {
   "display_name": "Python 3",
   "language": "python",
   "name": "python3"
  },
  "language_info": {
   "codemirror_mode": {
    "name": "ipython",
    "version": 3
   },
   "file_extension": ".py",
   "mimetype": "text/x-python",
   "name": "python",
   "nbconvert_exporter": "python",
   "pygments_lexer": "ipython3",
   "version": "3.12.1"
  }
 },
 "nbformat": 4,
 "nbformat_minor": 5
}
