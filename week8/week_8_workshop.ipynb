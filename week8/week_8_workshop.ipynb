{
 "cells": [
  {
   "cell_type": "code",
   "execution_count": null,
   "metadata": {},
   "outputs": [],
   "source": [
    "import pandas as pd\n"
   ]
  },
  {
   "cell_type": "markdown",
   "metadata": {},
   "source": [
    "Part 1: Data Loading and Exploration"
   ]
  },
  {
   "cell_type": "code",
   "execution_count": 2,
   "metadata": {},
   "outputs": [],
   "source": [
    "#1. Loading Data: Import all CSV files into Pandas DataFrames and display the first few rows of each.\n",
    "customer_df = pd.read_csv('data/wk8-customers.csv')\n",
    "products_df = pd.read_csv('data/wk8-products.csv')\n",
    "stores_df = pd.read_csv('data/wk8-stores.csv')\n",
    "sales_df = pd.read_csv('data/wk8-sales.csv')\n",
    "inventory_df = pd.read_csv('data/wk8-inventory.csv')"
   ]
  },
  {
   "cell_type": "code",
   "execution_count": null,
   "metadata": {},
   "outputs": [],
   "source": [
    "#2. Exploratory Analysis: Use descriptive statistics to get a feel for the data\n",
    " # - 2a. Obtain summary statistics of numerical columns in the products, sales, and \n",
    " #       inventory dataframes\n",
    "products_df.info()\n",
    "sales_df.info()\n",
    "inventory_df.info()\n"
   ]
  },
  {
   "cell_type": "code",
   "execution_count": null,
   "metadata": {},
   "outputs": [],
   "source": [
    "# - 2b Obtain summary statistics of numerical columns in the products, sales, \n",
    "#      and inventory dataframes\n",
    "products_df.describe()\n",
    "sales_df.describe()\n",
    "inventory_df.describe()"
   ]
  },
  {
   "cell_type": "code",
   "execution_count": null,
   "metadata": {},
   "outputs": [],
   "source": [
    "# - 2c Check for missing values in all dataframes\n",
    "customer_df.isnull().count()\n",
    "products_df.isnull().count()\n",
    "stores_df.isnull().count()\n",
    "sales_df.isnull().count()\n",
    "inventory_df.isnull().count()\n"
   ]
  },
  {
   "cell_type": "code",
   "execution_count": null,
   "metadata": {},
   "outputs": [],
   "source": [
    "# - 2d Display the data types of each column in all dataframes\n",
    "customer_df.dtypes\n",
    "products_df.dtypes\n",
    "stores_df.dtypes\n",
    "sales_df.dtypes\n",
    "inventory_df.dtypes"
   ]
  },
  {
   "cell_type": "code",
   "execution_count": null,
   "metadata": {},
   "outputs": [],
   "source": [
    "products_df.info()"
   ]
  },
  {
   "cell_type": "code",
   "execution_count": null,
   "metadata": {},
   "outputs": [],
   "source": [
    "#3. Basic Information Retrieval:\n",
    " # - 3a. How many unique products are in the product catalog?\n",
    "\n",
    "num_of_unique_products = len(products_df['product_name'].unique())\n",
    "\n",
    "print(f\"There are {num_of_unique_products} uniquely named products in the product catalog\")\n"
   ]
  },
  {
   "cell_type": "code",
   "execution_count": null,
   "metadata": {},
   "outputs": [],
   "source": [
    "#3b. What are the top 5 most expensive products?\n",
    "most_expensive_products = products_df.sort_values('price', ascending=False)[['product_name', 'price']].reset_index()\n",
    "print(f\"Here are the 5 most expensive products in the product catalog:\\n{most_expensive_products.head(5)}\")\n",
    "print(products_df.head(5))"
   ]
  },
  {
   "cell_type": "code",
   "execution_count": null,
   "metadata": {},
   "outputs": [],
   "source": [
    "#3c. Which store has the largest floor space?\n",
    "largest_Floor_space = stores_df.loc[stores_df['size_sqft'].idxmax()]\n",
    "print(f\"{largest_Floor_space['store_name']} has the largest floor space with {largest_Floor_space['size_sqft']} square feet\")\n"
   ]
  },
  {
   "cell_type": "code",
   "execution_count": null,
   "metadata": {},
   "outputs": [],
   "source": [
    "#3c. What is the distribution of customers by state?\n",
    "\n",
    "state_abbrv = {\n",
    "    'Alabama': 'AL','Alaska': 'AK','Arizona': 'AZ','Arkansas': 'AR','California': 'CA','Colorado': 'CO','Connecticut': 'CT','Delaware': 'DE','Florida': 'FL','Georgia': 'GA','Hawaii': 'HI','Idaho': 'ID','Illinois': 'IL',\n",
    "    'Indiana': 'IN','Iowa': 'IA','Kansas': 'KS','Kentucky': 'KY','Louisiana': 'LA','Maine': 'ME','Maryland': 'MD','Massachusetts': 'MA','Michigan': 'MI','Minnesota': 'MN','Mississippi': 'MS','Missouri': 'MO','Montana': 'MT',\n",
    "    'Nebraska': 'NE','Nevada': 'NV','New Hampshire': 'NH','New Jersey': 'NJ','New Mexico': 'NM','New York': 'NY','North Carolina': 'NC','North Dakota': 'ND','Ohio': 'OH','Oklahoma': 'OK','Oregon': 'OR','Pennsylvania': 'PA',\n",
    "    'Rhode Island': 'RI','South Carolina': 'SC','South Dakota': 'SD','Tennessee': 'TN','Texas': 'TX','Utah': 'UT','Vermont': 'VT','Virginia': 'VA','Washington': 'WA','West Virginia': 'WV','Wisconsin': 'WI','Wyoming': 'WY',\n",
    "}\n",
    "\n",
    "customer_df['state'] = customer_df['state'].replace(state_abbrv)\n",
    "cust_by_state = customer_df.groupby('state').size()\n",
    "\n",
    "\n",
    "# #this is a classic example of view vs copy. customer_df_new & customer_df point to the same object in memory so if you change one you change both. \n",
    "# #if you don't want to do that the use .copy(). Use a view when your reading or analyzing data (via alias)\n",
    "# #customer_df_new = customer_df\n",
    "# customer_df_new['state'] = customer_df_new['state'].replace(state_abbrv)\n",
    "# customer_df_new['state'].values"
   ]
  },
  {
   "cell_type": "markdown",
   "metadata": {},
   "source": [
    "Part 2: Data Cleaning"
   ]
  },
  {
   "cell_type": "code",
   "execution_count": 3,
   "metadata": {},
   "outputs": [
    {
     "name": "stdout",
     "output_type": "stream",
     "text": [
      "Customer table missing values:\n",
      "Row 1 is missing a value in column(s): email\n",
      "Row 3 is missing a value in column(s): registration_date\n",
      "Row 5 is missing a value in column(s): phone\n",
      "Row 11 is missing a value in column(s): email, zip_code\n",
      "Row 13 is missing a value in column(s): phone\n",
      "Row 15 is missing a value in column(s): registration_date\n",
      "Row 24 is missing a value in column(s): registration_date\n",
      "Row 29 is missing a value in column(s): email\n",
      "\n",
      "\n",
      "Inventory table missing values:\n",
      "Row 1 is missing a value in column(s): email\n",
      "Row 3 is missing a value in column(s): registration_date\n",
      "Row 5 is missing a value in column(s): phone\n",
      "Row 11 is missing a value in column(s): email, zip_code\n",
      "Row 13 is missing a value in column(s): phone\n",
      "Row 15 is missing a value in column(s): registration_date\n",
      "Row 24 is missing a value in column(s): registration_date\n",
      "Row 29 is missing a value in column(s): email\n",
      "\n",
      "\n",
      "Products table missing values:\n",
      "Row 1 is missing a value in column(s): email\n",
      "Row 3 is missing a value in column(s): registration_date\n",
      "Row 5 is missing a value in column(s): phone\n",
      "Row 11 is missing a value in column(s): email, zip_code\n",
      "Row 13 is missing a value in column(s): phone\n",
      "Row 15 is missing a value in column(s): registration_date\n",
      "Row 24 is missing a value in column(s): registration_date\n",
      "Row 29 is missing a value in column(s): email\n",
      "\n",
      "\n",
      "Sales table missing values:\n",
      "Row 1 is missing a value in column(s): email\n",
      "Row 3 is missing a value in column(s): registration_date\n",
      "Row 5 is missing a value in column(s): phone\n",
      "Row 11 is missing a value in column(s): email, zip_code\n",
      "Row 13 is missing a value in column(s): phone\n",
      "Row 15 is missing a value in column(s): registration_date\n",
      "Row 24 is missing a value in column(s): registration_date\n",
      "Row 29 is missing a value in column(s): email\n",
      "\n",
      "\n",
      "Stores table missing values:\n",
      "Row 1 is missing a value in column(s): email\n",
      "Row 3 is missing a value in column(s): registration_date\n",
      "Row 5 is missing a value in column(s): phone\n",
      "Row 11 is missing a value in column(s): email, zip_code\n",
      "Row 13 is missing a value in column(s): phone\n",
      "Row 15 is missing a value in column(s): registration_date\n",
      "Row 24 is missing a value in column(s): registration_date\n",
      "Row 29 is missing a value in column(s): email\n",
      "\n",
      "\n"
     ]
    }
   ],
   "source": [
    "# 1. Handling Missing Values:\n",
    "# 1a. Identify all missing values in each dataset\n",
    "def missing_values(df):\n",
    "\n",
    "    #find all rows that have at least 1 null value\n",
    "    null_rows = df[df.isnull().any(axis=1)]# this is an example of boolean indexing. It basically just gets a subset of data from a datframe based on the true/false values in a series.\n",
    "\n",
    "    #find what columns are missing in each row\n",
    "    null_columns = null_rows.apply(lambda row: row[row.isnull()].index.tolist(), axis=1)\n",
    "\n",
    "    return null_columns\n",
    "\n",
    "def print_missing_values(df):\n",
    "    for i, v in df.items(): \n",
    "        print(f\"Row {i} is missing a value in column(s): {', '.join([item for item in v])}\")\n",
    "    print(\"\\n\") \n",
    "\n",
    "print(\"Customer table missing values:\")\n",
    "customer_values = missing_values(customer_df)\n",
    "print_missing_values(customer_values)\n",
    "\n",
    "print(\"Inventory table missing values:\")\n",
    "inventory_values = missing_values(customer_df)\n",
    "print_missing_values(inventory_values)\n",
    "\n",
    "print(\"Products table missing values:\")\n",
    "product_values = missing_values(customer_df)\n",
    "print_missing_values(product_values)\n",
    "\n",
    "print(\"Sales table missing values:\")\n",
    "sales_values = missing_values(customer_df)\n",
    "print_missing_values(sales_values)\n",
    "\n",
    "print(\"Stores table missing values:\")\n",
    "stores_values = missing_values(customer_df)\n",
    "print_missing_values(stores_values)\n"
   ]
  },
  {
   "cell_type": "code",
   "execution_count": 15,
   "metadata": {},
   "outputs": [
    {
     "data": {
      "text/plain": [
       "inventory_id    0\n",
       "product_id      0\n",
       "dtype: int64"
      ]
     },
     "execution_count": 15,
     "metadata": {},
     "output_type": "execute_result"
    }
   ],
   "source": [
    "# 1b. For numerical columns with missing values, replace them with the column mean\n",
    "inventory_df[['inventory_id', 'product_id']].isnull().sum()"
   ]
  },
  {
   "cell_type": "code",
   "execution_count": null,
   "metadata": {},
   "outputs": [],
   "source": [
    "# 1c. For categorical columns with missing values, replace them with the most frequent value\n"
   ]
  },
  {
   "cell_type": "code",
   "execution_count": null,
   "metadata": {},
   "outputs": [],
   "source": [
    "# 1d For date columns with missing values, use forward fill or backward fill as appropriate"
   ]
  },
  {
   "cell_type": "code",
   "execution_count": null,
   "metadata": {},
   "outputs": [],
   "source": [
    "# 2. Removing Duplicates:\n",
    "# 2a. Check for and remove any duplicate entries in the customers and products dataframes"
   ]
  },
  {
   "cell_type": "code",
   "execution_count": null,
   "metadata": {},
   "outputs": [],
   "source": [
    "# 2b. Explain your approach for identifying duplicates"
   ]
  }
 ],
 "metadata": {
  "kernelspec": {
   "display_name": "Python 3",
   "language": "python",
   "name": "python3"
  },
  "language_info": {
   "codemirror_mode": {
    "name": "ipython",
    "version": 3
   },
   "file_extension": ".py",
   "mimetype": "text/x-python",
   "name": "python",
   "nbconvert_exporter": "python",
   "pygments_lexer": "ipython3",
   "version": "3.12.7"
  }
 },
 "nbformat": 4,
 "nbformat_minor": 2
}
