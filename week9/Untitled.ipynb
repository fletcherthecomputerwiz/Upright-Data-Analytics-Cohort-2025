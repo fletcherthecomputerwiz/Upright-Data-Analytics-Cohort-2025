{
 "cells": [
  {
   "cell_type": "code",
   "execution_count": null,
   "id": "8ee4b535-63f9-496f-b2bd-f5b5dbbb3684",
   "metadata": {},
   "outputs": [],
   "source": [
    "# Import required libraries\n",
    "import pandas as pd  # Main library for data manipulation and analysis\n",
    "# Load the three datasets using pd.read_csv()\n",
    "# This function reads CSV files and converts them into pandas DataFrames\n",
    "customers = pd.read_csv('YOUR_FILE_PATH')\n",
    "products = pd.read_csv('YOUR_FILE_PATH')\n",
    "sales = pd.read_csv('YOUR_FILE_PATH')\n",
    "# Display basic information about what we've loaded\n",
    "# len() gives us the number of rows in each DataFrame\n",
    "print(f\"✅ Successfully loaded:\")\n",
    "print(f\"   - {len(customers)} customers\")      # Total number of customer records\n",
    "print(f\"   - {len(products)} products\")        # Total number of products in catalog\n",
    "print(f\"   - {len(sales)} sales transactions\") # Total number of sales transactions\n",
    "\n",
    "# Display the first few rows of each dataset to understand the structure\n",
    "# .head(n) shows the first n rows of a DataFrame - useful for data exploration\n",
    "print(f\"\\n👀 First few rows of each dataset:\")\n",
    "print(f\"\\nCustomers:\")\n",
    "print(customers.head(3))  # Show first 3 rows of customer data\n",
    "print(f\"\\nProducts:\")\n",
    "print(products.head(3))   # Show first 3 rows of product data\n",
    "print(f\"\\nSales:\")\n",
    "print(sales.head(3))      # Show first 3 rows of sales data"
   ]
  },
  {
   "cell_type": "code",
   "execution_count": null,
   "id": "b0a17d9c-2d9d-42bb-9049-3883f9ed33d7",
   "metadata": {},
   "outputs": [],
   "source": [
    "# =============================================================================\n",
    "# PART 1: DATETIME OPERATIONS\n",
    "# =============================================================================\n",
    "# DateTime operations are crucial for time-based analysis in business data\n",
    "# We'll convert text dates to proper datetime objects and extract useful components\n",
    "\n",
    "print(\"\\n\" + \"=\" * 60)\n",
    "print(\"PART 1: DATETIME OPERATIONS\")\n",
    "print(\"=\" * 60)\n",
    "\n",
    "print(\"\\n🕐 1.1 Converting and Working with Dates\")\n",
    "\n",
    "# Convert date columns from strings to pandas datetime objects\n",
    "# pd.to_datetime() is the main function for converting various date formats\n",
    "# Once converted, we can perform date arithmetic and extract components\n",
    "print(\"Converting date columns to datetime...\")\n",
    "# YOUR CODE HERE\n",
    "\n",
    "print(\"✅ All date columns converted successfully\")"
   ]
  },
  {
   "cell_type": "code",
   "execution_count": null,
   "id": "51e41994-efd9-4c7d-8d8d-835c1fb66140",
   "metadata": {},
   "outputs": [],
   "source": [
    "# Extract useful components from datetime objects using the .dt accessor\n",
    "# The .dt accessor gives us access to datetime-specific methods and properties\n",
    "print(\"\\nExtracting datetime components...\")   \n",
    "# Extract year (2022, 2023, etc.)\n",
    "     \n",
    "# Extract month number (1-12)\n",
    "\n",
    "# Day of week (Monday=0, Sunday=6)\n",
    "  \n",
    "# Day name as text (Monday, Tuesday, etc.)\n",
    "print(\"✅ Extracted: year, month, day of week, and day name\")"
   ]
  },
  {
   "cell_type": "code",
   "execution_count": null,
   "id": "854f2fc0-0ec8-417e-a833-946e65644ff3",
   "metadata": {},
   "outputs": [],
   "source": [
    "# Find the date range of our sales data by using min() and max()\n",
    "# This helps us understand the time span our analysis covers\n",
    "# YOUR CODE HERE\n",
    "\n",
    "print(\"\\n🔍 1.2 Basic Time Analysis\")"
   ]
  },
  {
   "cell_type": "code",
   "execution_count": null,
   "id": "0e142470-1323-4179-81f3-64fcc0bb9241",
   "metadata": {},
   "outputs": [],
   "source": [
    "# Find the busiest day of the week by counting transactions\n",
    "# .value_counts() counts occurrences of each unique value\n",
    "# Count transactions for each day name   \n",
    "\n",
    "# Get the day with most transactions (first in sorted list)\n",
    "         \n",
    "# Get the count for that day\n",
    "\n",
    "# Display all days ranked by transaction count for complete picture"
   ]
  },
  {
   "cell_type": "code",
   "execution_count": null,
   "id": "678688cf-562c-45f7-8521-7321a130c987",
   "metadata": {},
   "outputs": [],
   "source": [
    "# Count sales by year to see yearly trends   \n",
    "# Count transactions by year, sort chronologically\n",
    "print(f\"\\nSales by year:\")"
   ]
  },
  {
   "cell_type": "code",
   "execution_count": null,
   "id": "03151bd9-9269-4f3c-b0ef-68e50f7839e5",
   "metadata": {},
   "outputs": [],
   "source": [
    "# =============================================================================\n",
    "# PART 2: GROUPBY AND AGGREGATION\n",
    "# =============================================================================\n",
    "# GroupBy operations allow us to split data into groups and perform calculations\n",
    "# on each group separately. This is essential for analyzing patterns and trends."
   ]
  },
  {
   "cell_type": "code",
   "execution_count": null,
   "id": "6a94b8ab-6a66-4939-992c-6909130bdf8b",
   "metadata": {},
   "outputs": [],
   "source": [
    "# Group products by category and calculate average price for each category\n",
    "# .groupby() splits the data into groups based on the 'category' column\n",
    "# .mean() calculates the average for each group\n",
    "# .round(2) rounds to 2 decimal places for currency formatting\n",
    "# .sort_values(ascending=False) sorts from highest to lowest price\n",
    "# Loop through each category and its average price             \n",
    "# Format with dollar sign"
   ]
  },
  {
   "cell_type": "code",
   "execution_count": null,
   "id": "3c17076b-1606-44e5-b5ae-77ec174e0f38",
   "metadata": {},
   "outputs": [],
   "source": [
    "# Count how many products exist in each category\n",
    "# .value_counts() counts occurrences of each unique category"
   ]
  },
  {
   "cell_type": "code",
   "execution_count": null,
   "id": "72fce3d4-26fc-415f-8f69-d2a449d113d4",
   "metadata": {},
   "outputs": [],
   "source": [
    "# Group customers by state and calculate average age\n",
    "# This shows us the demographic profile of customers in different regions"
   ]
  },
  {
   "cell_type": "code",
   "execution_count": null,
   "id": "10e626d1-b1cd-4cad-92fe-f179a302751f",
   "metadata": {},
   "outputs": [],
   "source": [
    "# Find customers with the most purchases (transaction frequency)\n",
    "# .groupby().size() counts the number of transactions per customer\n",
    "# This is different from sum() - it counts rows, not values\n",
    "customer_purchase_counts = sales.groupby('customer_id').size().sort_values(ascending=False)\n",
    "top_buyer_id = customer_purchase_counts.index[0]        # Customer ID with most purchases\n",
    "top_buyer_purchases = customer_purchase_counts.iloc[0]  # Number of purchases by top customer\n",
    "print(f\"\\nCustomer with most purchases: Customer #{top_buyer_id} ({top_buyer_purchases} purchases)\")"
   ]
  }
 ],
 "metadata": {
  "kernelspec": {
   "display_name": "Python [conda env:base] *",
   "language": "python",
   "name": "conda-base-py"
  },
  "language_info": {
   "codemirror_mode": {
    "name": "ipython",
    "version": 3
   },
   "file_extension": ".py",
   "mimetype": "text/x-python",
   "name": "python",
   "nbconvert_exporter": "python",
   "pygments_lexer": "ipython3",
   "version": "3.12.7"
  }
 },
 "nbformat": 4,
 "nbformat_minor": 5
}
